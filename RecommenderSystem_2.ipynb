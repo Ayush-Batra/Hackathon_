{
  "nbformat": 4,
  "nbformat_minor": 0,
  "metadata": {
    "colab": {
      "name": "RecommenderSystem.ipynb",
      "provenance": []
    },
    "kernelspec": {
      "name": "python3",
      "display_name": "Python 3"
    },
    "language_info": {
      "name": "python"
    }
  },
  "cells": [
    {
      "cell_type": "code",
      "metadata": {
        "colab": {
          "base_uri": "https://localhost:8080/"
        },
        "id": "B7JglshJiLgY",
        "outputId": "d3360785-fc10-4a99-b093-fb665d5fc3c3"
      },
      "source": [
        "!pip install strsim"
      ],
      "execution_count": 137,
      "outputs": [
        {
          "output_type": "stream",
          "text": [
            "Requirement already satisfied: strsim in /usr/local/lib/python3.7/dist-packages (0.0.3)\n"
          ],
          "name": "stdout"
        }
      ]
    },
    {
      "cell_type": "code",
      "metadata": {
        "id": "C1aPcfyLyW0n"
      },
      "source": [
        "import pandas as pd\n",
        "import numpy as np\n",
        "import seaborn as sns"
      ],
      "execution_count": 138,
      "outputs": []
    },
    {
      "cell_type": "code",
      "metadata": {
        "id": "071WwTwFy5CA"
      },
      "source": [
        "df = pd.read_csv('coursera.csv')"
      ],
      "execution_count": 139,
      "outputs": []
    },
    {
      "cell_type": "code",
      "metadata": {
        "colab": {
          "base_uri": "https://localhost:8080/",
          "height": 405
        },
        "id": "Uk_9NHx4y8ul",
        "outputId": "57a7af3f-c814-4627-ab92-2fc40e1ca664"
      },
      "source": [
        "df.head()"
      ],
      "execution_count": 140,
      "outputs": [
        {
          "output_type": "execute_result",
          "data": {
            "text/html": [
              "<div>\n",
              "<style scoped>\n",
              "    .dataframe tbody tr th:only-of-type {\n",
              "        vertical-align: middle;\n",
              "    }\n",
              "\n",
              "    .dataframe tbody tr th {\n",
              "        vertical-align: top;\n",
              "    }\n",
              "\n",
              "    .dataframe thead th {\n",
              "        text-align: right;\n",
              "    }\n",
              "</style>\n",
              "<table border=\"1\" class=\"dataframe\">\n",
              "  <thead>\n",
              "    <tr style=\"text-align: right;\">\n",
              "      <th></th>\n",
              "      <th>Course Name</th>\n",
              "      <th>University / Industry Partner Name</th>\n",
              "      <th>Difficulty Level</th>\n",
              "      <th>Average Hours</th>\n",
              "      <th>Course Rating</th>\n",
              "      <th>Course URL</th>\n",
              "      <th>Course Description</th>\n",
              "      <th>Skills Learned</th>\n",
              "      <th>Domain</th>\n",
              "      <th>Sub-Domain</th>\n",
              "    </tr>\n",
              "  </thead>\n",
              "  <tbody>\n",
              "    <tr>\n",
              "      <th>0</th>\n",
              "      <td>Write A Feature Length Screenplay For Film Or ...</td>\n",
              "      <td>Michigan State University</td>\n",
              "      <td>Beginner</td>\n",
              "      <td>16.6</td>\n",
              "      <td>4.8</td>\n",
              "      <td>https://www.coursera.org/learn/write-a-feature...</td>\n",
              "      <td>Write a Full Length Feature Film Script\\n\\nIn ...</td>\n",
              "      <td>Drama; Comedy; peering; screenwriting; film; D...</td>\n",
              "      <td>arts-and-humanities</td>\n",
              "      <td>music-and-art</td>\n",
              "    </tr>\n",
              "    <tr>\n",
              "      <th>1</th>\n",
              "      <td>Business Strategy: Business Model Canvas Analy...</td>\n",
              "      <td>Coursera Project Network</td>\n",
              "      <td>Beginner</td>\n",
              "      <td>0.5</td>\n",
              "      <td>4.8</td>\n",
              "      <td>https://www.coursera.org/learn/canvas-analysis...</td>\n",
              "      <td>By the end of this guided project, you will be...</td>\n",
              "      <td>Finance; business plan; persona (user experien...</td>\n",
              "      <td>business</td>\n",
              "      <td>business-strategy</td>\n",
              "    </tr>\n",
              "    <tr>\n",
              "      <th>2</th>\n",
              "      <td>Silicon Thin Film Solar Cells</td>\n",
              "      <td>École Polytechnique</td>\n",
              "      <td>Advanced</td>\n",
              "      <td>6</td>\n",
              "      <td>4.1</td>\n",
              "      <td>https://www.coursera.org/learn/silicon-thin-fi...</td>\n",
              "      <td>This course consists of a general presentation...</td>\n",
              "      <td>chemistry; physics; Solar Energy; film; lambda...</td>\n",
              "      <td>physical-science-and-engineering</td>\n",
              "      <td>electrical-engineering</td>\n",
              "    </tr>\n",
              "    <tr>\n",
              "      <th>3</th>\n",
              "      <td>Anatomy of the Abdomen and Pelvis; a journey f...</td>\n",
              "      <td>Universiteit Leiden</td>\n",
              "      <td>Beginner</td>\n",
              "      <td>31.3</td>\n",
              "      <td>4.8</td>\n",
              "      <td>https://www.coursera.org/learn/abdomen-anatomy</td>\n",
              "      <td>In this anatomy course you will explore the or...</td>\n",
              "      <td>pain; spleen; enteric nervous system; canning;...</td>\n",
              "      <td>life-sciences</td>\n",
              "      <td>basic-science</td>\n",
              "    </tr>\n",
              "    <tr>\n",
              "      <th>4</th>\n",
              "      <td>Finance for Managers</td>\n",
              "      <td>IESE Business School</td>\n",
              "      <td>Intermediate</td>\n",
              "      <td>13</td>\n",
              "      <td>4.8</td>\n",
              "      <td>https://www.coursera.org/learn/operational-fin...</td>\n",
              "      <td>When it comes to numbers, there is always more...</td>\n",
              "      <td>accounts receivable; dupont analysis; analysis...</td>\n",
              "      <td>business</td>\n",
              "      <td>finance</td>\n",
              "    </tr>\n",
              "  </tbody>\n",
              "</table>\n",
              "</div>"
            ],
            "text/plain": [
              "                                         Course Name  ...              Sub-Domain\n",
              "0  Write A Feature Length Screenplay For Film Or ...  ...           music-and-art\n",
              "1  Business Strategy: Business Model Canvas Analy...  ...       business-strategy\n",
              "2                      Silicon Thin Film Solar Cells  ...  electrical-engineering\n",
              "3  Anatomy of the Abdomen and Pelvis; a journey f...  ...           basic-science\n",
              "4                               Finance for Managers  ...                 finance\n",
              "\n",
              "[5 rows x 10 columns]"
            ]
          },
          "metadata": {},
          "execution_count": 140
        }
      ]
    },
    {
      "cell_type": "code",
      "metadata": {
        "colab": {
          "base_uri": "https://localhost:8080/"
        },
        "id": "kIipW2Spy-Wv",
        "outputId": "0a995b6c-ec73-43a7-90ad-d9b04e01c085"
      },
      "source": [
        "df.isnull().sum()"
      ],
      "execution_count": 141,
      "outputs": [
        {
          "output_type": "execute_result",
          "data": {
            "text/plain": [
              "Course Name                           0\n",
              "University / Industry Partner Name    0\n",
              "Difficulty Level                      0\n",
              "Average Hours                         0\n",
              "Course Rating                         0\n",
              "Course URL                            0\n",
              "Course Description                    0\n",
              "Skills Learned                        0\n",
              "Domain                                0\n",
              "Sub-Domain                            0\n",
              "dtype: int64"
            ]
          },
          "metadata": {},
          "execution_count": 141
        }
      ]
    },
    {
      "cell_type": "code",
      "metadata": {
        "colab": {
          "base_uri": "https://localhost:8080/"
        },
        "id": "neVdiBKQzAyA",
        "outputId": "9f0eae46-69c8-446a-83d7-1222329d6bcd"
      },
      "source": [
        "df.shape"
      ],
      "execution_count": 142,
      "outputs": [
        {
          "output_type": "execute_result",
          "data": {
            "text/plain": [
              "(3662, 10)"
            ]
          },
          "metadata": {},
          "execution_count": 142
        }
      ]
    },
    {
      "cell_type": "code",
      "metadata": {
        "colab": {
          "base_uri": "https://localhost:8080/"
        },
        "id": "AHCglQRozC1p",
        "outputId": "dea4d2ed-6a18-4882-b539-7308a81dd490"
      },
      "source": [
        "df.columns"
      ],
      "execution_count": 143,
      "outputs": [
        {
          "output_type": "execute_result",
          "data": {
            "text/plain": [
              "Index(['Course Name', 'University / Industry Partner Name', 'Difficulty Level',\n",
              "       'Average Hours', 'Course Rating', 'Course URL', 'Course Description',\n",
              "       'Skills Learned', 'Domain', 'Sub-Domain'],\n",
              "      dtype='object')"
            ]
          },
          "metadata": {},
          "execution_count": 143
        }
      ]
    },
    {
      "cell_type": "code",
      "metadata": {
        "id": "sR2fO7dIzJE6"
      },
      "source": [
        "df.dropna(axis=0, how='any',inplace=True)"
      ],
      "execution_count": 144,
      "outputs": []
    },
    {
      "cell_type": "code",
      "metadata": {
        "colab": {
          "base_uri": "https://localhost:8080/"
        },
        "id": "BVjWdnR2zQdq",
        "outputId": "dc111db5-aaf4-4817-e42c-92a75954ab22"
      },
      "source": [
        "df.isnull().sum()"
      ],
      "execution_count": 145,
      "outputs": [
        {
          "output_type": "execute_result",
          "data": {
            "text/plain": [
              "Course Name                           0\n",
              "University / Industry Partner Name    0\n",
              "Difficulty Level                      0\n",
              "Average Hours                         0\n",
              "Course Rating                         0\n",
              "Course URL                            0\n",
              "Course Description                    0\n",
              "Skills Learned                        0\n",
              "Domain                                0\n",
              "Sub-Domain                            0\n",
              "dtype: int64"
            ]
          },
          "metadata": {},
          "execution_count": 145
        }
      ]
    },
    {
      "cell_type": "code",
      "metadata": {
        "colab": {
          "base_uri": "https://localhost:8080/"
        },
        "id": "TQtpcOuZzXW-",
        "outputId": "da07e5a3-9487-4068-afa0-230cb45ee25c"
      },
      "source": [
        "df.shape"
      ],
      "execution_count": 146,
      "outputs": [
        {
          "output_type": "execute_result",
          "data": {
            "text/plain": [
              "(3662, 10)"
            ]
          },
          "metadata": {},
          "execution_count": 146
        }
      ]
    },
    {
      "cell_type": "code",
      "metadata": {
        "colab": {
          "base_uri": "https://localhost:8080/"
        },
        "id": "daVmTR-A9cOp",
        "outputId": "dc480cd9-91f6-41d5-ec5c-7f6b6e0f256b"
      },
      "source": [
        "difficulty_level = input('Enter difficulty level: ')\n"
      ],
      "execution_count": 147,
      "outputs": [
        {
          "output_type": "stream",
          "text": [
            "Enter difficulty level: Beginner\n"
          ],
          "name": "stdout"
        }
      ]
    },
    {
      "cell_type": "code",
      "metadata": {
        "id": "kg9fPcxg-gmz"
      },
      "source": [
        "df_short = df.loc[df['Difficulty Level']==difficulty_level,:]"
      ],
      "execution_count": 148,
      "outputs": []
    },
    {
      "cell_type": "code",
      "metadata": {
        "colab": {
          "base_uri": "https://localhost:8080/"
        },
        "id": "RC_RzhNFBKZR",
        "outputId": "aa9a2b60-2253-49a2-d9f3-bdcb560d2e34"
      },
      "source": [
        "df_short['skill_domain'] = df_short['Skills Learned'] + ' ' + df_short['Domain'] + ' ' + df_short['Sub-Domain']"
      ],
      "execution_count": 149,
      "outputs": [
        {
          "output_type": "stream",
          "text": [
            "/usr/local/lib/python3.7/dist-packages/ipykernel_launcher.py:1: SettingWithCopyWarning: \n",
            "A value is trying to be set on a copy of a slice from a DataFrame.\n",
            "Try using .loc[row_indexer,col_indexer] = value instead\n",
            "\n",
            "See the caveats in the documentation: https://pandas.pydata.org/pandas-docs/stable/user_guide/indexing.html#returning-a-view-versus-a-copy\n",
            "  \"\"\"Entry point for launching an IPython kernel.\n"
          ],
          "name": "stderr"
        }
      ]
    },
    {
      "cell_type": "code",
      "metadata": {
        "colab": {
          "base_uri": "https://localhost:8080/"
        },
        "id": "gCYpKz2IHi2W",
        "outputId": "f5a762e8-7a3c-4162-8ad9-4b67337cbcea"
      },
      "source": [
        "df_short['index'] = np.arange(0, df_short.shape[0])"
      ],
      "execution_count": 150,
      "outputs": [
        {
          "output_type": "stream",
          "text": [
            "/usr/local/lib/python3.7/dist-packages/ipykernel_launcher.py:1: SettingWithCopyWarning: \n",
            "A value is trying to be set on a copy of a slice from a DataFrame.\n",
            "Try using .loc[row_indexer,col_indexer] = value instead\n",
            "\n",
            "See the caveats in the documentation: https://pandas.pydata.org/pandas-docs/stable/user_guide/indexing.html#returning-a-view-versus-a-copy\n",
            "  \"\"\"Entry point for launching an IPython kernel.\n"
          ],
          "name": "stderr"
        }
      ]
    },
    {
      "cell_type": "code",
      "metadata": {
        "colab": {
          "base_uri": "https://localhost:8080/"
        },
        "id": "VEip_zmvBv4U",
        "outputId": "3b4b68b2-ea32-4e65-fa6e-baf37407c336"
      },
      "source": [
        "def remove_punctuation(skilldomain):\n",
        "  skilldomain = skilldomain.replace(';','')\n",
        "  skilldomain = skilldomain.replace('-','')\n",
        "  return skilldomain\n",
        "\n",
        "df_short['skill_domain']=df_short['skill_domain'].apply(remove_punctuation)"
      ],
      "execution_count": 151,
      "outputs": [
        {
          "output_type": "stream",
          "text": [
            "/usr/local/lib/python3.7/dist-packages/ipykernel_launcher.py:6: SettingWithCopyWarning: \n",
            "A value is trying to be set on a copy of a slice from a DataFrame.\n",
            "Try using .loc[row_indexer,col_indexer] = value instead\n",
            "\n",
            "See the caveats in the documentation: https://pandas.pydata.org/pandas-docs/stable/user_guide/indexing.html#returning-a-view-versus-a-copy\n",
            "  \n"
          ],
          "name": "stderr"
        }
      ]
    },
    {
      "cell_type": "code",
      "metadata": {
        "colab": {
          "base_uri": "https://localhost:8080/"
        },
        "id": "3lXD2q_BhOSo",
        "outputId": "b58e25ef-0b7d-40f1-9628-2bc05fd1c2fc"
      },
      "source": [
        "skill = input('Enter skill: ')"
      ],
      "execution_count": 152,
      "outputs": [
        {
          "output_type": "stream",
          "text": [
            "Enter skill: web development\n"
          ],
          "name": "stdout"
        }
      ]
    },
    {
      "cell_type": "code",
      "metadata": {
        "colab": {
          "base_uri": "https://localhost:8080/"
        },
        "id": "-RSjQK4CoKvK",
        "outputId": "c5e0c85c-a4a1-4a1c-b1bd-17f76f636905"
      },
      "source": [
        "df_short['skill'] = skill"
      ],
      "execution_count": 153,
      "outputs": [
        {
          "output_type": "stream",
          "text": [
            "/usr/local/lib/python3.7/dist-packages/ipykernel_launcher.py:1: SettingWithCopyWarning: \n",
            "A value is trying to be set on a copy of a slice from a DataFrame.\n",
            "Try using .loc[row_indexer,col_indexer] = value instead\n",
            "\n",
            "See the caveats in the documentation: https://pandas.pydata.org/pandas-docs/stable/user_guide/indexing.html#returning-a-view-versus-a-copy\n",
            "  \"\"\"Entry point for launching an IPython kernel.\n"
          ],
          "name": "stderr"
        }
      ]
    },
    {
      "cell_type": "code",
      "metadata": {
        "id": "R0VIWnTxipNP"
      },
      "source": [
        "from similarity.cosine import Cosine"
      ],
      "execution_count": 154,
      "outputs": []
    },
    {
      "cell_type": "code",
      "metadata": {
        "colab": {
          "base_uri": "https://localhost:8080/",
          "height": 1000
        },
        "id": "lg21FP66iqVa",
        "outputId": "88ce7d4c-d914-4544-80fd-116801ca4795"
      },
      "source": [
        "cosine = Cosine(2)\n",
        "df_short[\"p0\"] = df_short[\"skill\"].apply(lambda s: cosine.get_profile(s)) \n",
        "df_short[\"p1\"] = df_short[\"skill_domain\"].apply(lambda s: cosine.get_profile(s)) \n",
        "df_short[\"cosine_sim\"] = [cosine.similarity_profiles(p0,p1) for p0,p1 in zip(df_short[\"p0\"],df_short[\"p1\"])]\n",
        "\n",
        "df_short.drop([\"p0\", \"p1\"], axis=1)\n"
      ],
      "execution_count": 155,
      "outputs": [
        {
          "output_type": "stream",
          "text": [
            "/usr/local/lib/python3.7/dist-packages/ipykernel_launcher.py:2: SettingWithCopyWarning: \n",
            "A value is trying to be set on a copy of a slice from a DataFrame.\n",
            "Try using .loc[row_indexer,col_indexer] = value instead\n",
            "\n",
            "See the caveats in the documentation: https://pandas.pydata.org/pandas-docs/stable/user_guide/indexing.html#returning-a-view-versus-a-copy\n",
            "  \n",
            "/usr/local/lib/python3.7/dist-packages/ipykernel_launcher.py:3: SettingWithCopyWarning: \n",
            "A value is trying to be set on a copy of a slice from a DataFrame.\n",
            "Try using .loc[row_indexer,col_indexer] = value instead\n",
            "\n",
            "See the caveats in the documentation: https://pandas.pydata.org/pandas-docs/stable/user_guide/indexing.html#returning-a-view-versus-a-copy\n",
            "  This is separate from the ipykernel package so we can avoid doing imports until\n",
            "/usr/local/lib/python3.7/dist-packages/ipykernel_launcher.py:4: SettingWithCopyWarning: \n",
            "A value is trying to be set on a copy of a slice from a DataFrame.\n",
            "Try using .loc[row_indexer,col_indexer] = value instead\n",
            "\n",
            "See the caveats in the documentation: https://pandas.pydata.org/pandas-docs/stable/user_guide/indexing.html#returning-a-view-versus-a-copy\n",
            "  after removing the cwd from sys.path.\n"
          ],
          "name": "stderr"
        },
        {
          "output_type": "execute_result",
          "data": {
            "text/html": [
              "<div>\n",
              "<style scoped>\n",
              "    .dataframe tbody tr th:only-of-type {\n",
              "        vertical-align: middle;\n",
              "    }\n",
              "\n",
              "    .dataframe tbody tr th {\n",
              "        vertical-align: top;\n",
              "    }\n",
              "\n",
              "    .dataframe thead th {\n",
              "        text-align: right;\n",
              "    }\n",
              "</style>\n",
              "<table border=\"1\" class=\"dataframe\">\n",
              "  <thead>\n",
              "    <tr style=\"text-align: right;\">\n",
              "      <th></th>\n",
              "      <th>Course Name</th>\n",
              "      <th>University / Industry Partner Name</th>\n",
              "      <th>Difficulty Level</th>\n",
              "      <th>Average Hours</th>\n",
              "      <th>Course Rating</th>\n",
              "      <th>Course URL</th>\n",
              "      <th>Course Description</th>\n",
              "      <th>Skills Learned</th>\n",
              "      <th>Domain</th>\n",
              "      <th>Sub-Domain</th>\n",
              "      <th>skill_domain</th>\n",
              "      <th>index</th>\n",
              "      <th>skill</th>\n",
              "      <th>cosine_sim</th>\n",
              "    </tr>\n",
              "  </thead>\n",
              "  <tbody>\n",
              "    <tr>\n",
              "      <th>0</th>\n",
              "      <td>Write A Feature Length Screenplay For Film Or ...</td>\n",
              "      <td>Michigan State University</td>\n",
              "      <td>Beginner</td>\n",
              "      <td>16.6</td>\n",
              "      <td>4.8</td>\n",
              "      <td>https://www.coursera.org/learn/write-a-feature...</td>\n",
              "      <td>Write a Full Length Feature Film Script\\n\\nIn ...</td>\n",
              "      <td>Drama; Comedy; peering; screenwriting; film; D...</td>\n",
              "      <td>arts-and-humanities</td>\n",
              "      <td>music-and-art</td>\n",
              "      <td>Drama Comedy peering screenwriting film Docume...</td>\n",
              "      <td>0</td>\n",
              "      <td>web development</td>\n",
              "      <td>0.167531</td>\n",
              "    </tr>\n",
              "    <tr>\n",
              "      <th>1</th>\n",
              "      <td>Business Strategy: Business Model Canvas Analy...</td>\n",
              "      <td>Coursera Project Network</td>\n",
              "      <td>Beginner</td>\n",
              "      <td>0.5</td>\n",
              "      <td>4.8</td>\n",
              "      <td>https://www.coursera.org/learn/canvas-analysis...</td>\n",
              "      <td>By the end of this guided project, you will be...</td>\n",
              "      <td>Finance; business plan; persona (user experien...</td>\n",
              "      <td>business</td>\n",
              "      <td>business-strategy</td>\n",
              "      <td>Finance business plan persona (user experience...</td>\n",
              "      <td>1</td>\n",
              "      <td>web development</td>\n",
              "      <td>0.208273</td>\n",
              "    </tr>\n",
              "    <tr>\n",
              "      <th>3</th>\n",
              "      <td>Anatomy of the Abdomen and Pelvis; a journey f...</td>\n",
              "      <td>Universiteit Leiden</td>\n",
              "      <td>Beginner</td>\n",
              "      <td>31.3</td>\n",
              "      <td>4.8</td>\n",
              "      <td>https://www.coursera.org/learn/abdomen-anatomy</td>\n",
              "      <td>In this anatomy course you will explore the or...</td>\n",
              "      <td>pain; spleen; enteric nervous system; canning;...</td>\n",
              "      <td>life-sciences</td>\n",
              "      <td>basic-science</td>\n",
              "      <td>pain spleen enteric nervous system canning pel...</td>\n",
              "      <td>2</td>\n",
              "      <td>web development</td>\n",
              "      <td>0.247383</td>\n",
              "    </tr>\n",
              "    <tr>\n",
              "      <th>6</th>\n",
              "      <td>Retrieve Data using Single-Table SQL Queries</td>\n",
              "      <td>Coursera Project Network</td>\n",
              "      <td>Beginner</td>\n",
              "      <td>0.3</td>\n",
              "      <td>4.6</td>\n",
              "      <td>https://www.coursera.org/learn/single-table-sq...</td>\n",
              "      <td>In this course you’ll learn how to effectively...</td>\n",
              "      <td>Data Analysis; select (sql); database manageme...</td>\n",
              "      <td>information-technology</td>\n",
              "      <td>data-management</td>\n",
              "      <td>Data Analysis select (sql) database management...</td>\n",
              "      <td>3</td>\n",
              "      <td>web development</td>\n",
              "      <td>0.199451</td>\n",
              "    </tr>\n",
              "    <tr>\n",
              "      <th>7</th>\n",
              "      <td>Building Test Automation Framework using Selen...</td>\n",
              "      <td>Coursera Project Network</td>\n",
              "      <td>Beginner</td>\n",
              "      <td>0.6</td>\n",
              "      <td>4.7</td>\n",
              "      <td>https://www.coursera.org/learn/building-test-a...</td>\n",
              "      <td>Selenium is one of the most widely used functi...</td>\n",
              "      <td>maintenance; test case; test automation; scree...</td>\n",
              "      <td>computer-science</td>\n",
              "      <td>software-development</td>\n",
              "      <td>maintenance test case test automation screensh...</td>\n",
              "      <td>4</td>\n",
              "      <td>web development</td>\n",
              "      <td>0.366266</td>\n",
              "    </tr>\n",
              "    <tr>\n",
              "      <th>...</th>\n",
              "      <td>...</td>\n",
              "      <td>...</td>\n",
              "      <td>...</td>\n",
              "      <td>...</td>\n",
              "      <td>...</td>\n",
              "      <td>...</td>\n",
              "      <td>...</td>\n",
              "      <td>...</td>\n",
              "      <td>...</td>\n",
              "      <td>...</td>\n",
              "      <td>...</td>\n",
              "      <td>...</td>\n",
              "      <td>...</td>\n",
              "      <td>...</td>\n",
              "    </tr>\n",
              "    <tr>\n",
              "      <th>3650</th>\n",
              "      <td>Visual Perception and Visual Illusions</td>\n",
              "      <td>Saint Petersburg State University</td>\n",
              "      <td>Beginner</td>\n",
              "      <td>18.8</td>\n",
              "      <td>Not Calibrated</td>\n",
              "      <td>https://www.coursera.org/learn/visualperception</td>\n",
              "      <td>Vision is one of the main ways for us to gathe...</td>\n",
              "      <td>goms; art; learnability; cognitive behavioral ...</td>\n",
              "      <td>life-sciences</td>\n",
              "      <td>psychology</td>\n",
              "      <td>goms art learnability cognitive behavioral the...</td>\n",
              "      <td>1503</td>\n",
              "      <td>web development</td>\n",
              "      <td>0.114800</td>\n",
              "    </tr>\n",
              "    <tr>\n",
              "      <th>3651</th>\n",
              "      <td>Mining Data to Extract and Visualize Insights ...</td>\n",
              "      <td>Coursera Project Network</td>\n",
              "      <td>Beginner</td>\n",
              "      <td>0.3</td>\n",
              "      <td>4.2</td>\n",
              "      <td>https://www.coursera.org/learn/data-mining-vis...</td>\n",
              "      <td>By the end of this project, you will learn how...</td>\n",
              "      <td>Python Programming; analysis; General Statisti...</td>\n",
              "      <td>data-science</td>\n",
              "      <td>data-analysis</td>\n",
              "      <td>Python Programming analysis General Statistics...</td>\n",
              "      <td>1504</td>\n",
              "      <td>web development</td>\n",
              "      <td>0.104828</td>\n",
              "    </tr>\n",
              "    <tr>\n",
              "      <th>3655</th>\n",
              "      <td>Scalable Machine Learning on Big Data using Ap...</td>\n",
              "      <td>IBM</td>\n",
              "      <td>Beginner</td>\n",
              "      <td>8.3</td>\n",
              "      <td>3.4</td>\n",
              "      <td>https://www.coursera.org/learn/machine-learnin...</td>\n",
              "      <td>This course will empower you with the skills t...</td>\n",
              "      <td>Apache; Human Learning; scalability; functiona...</td>\n",
              "      <td>data-science</td>\n",
              "      <td>machine-learning</td>\n",
              "      <td>Apache Human Learning scalability functional p...</td>\n",
              "      <td>1505</td>\n",
              "      <td>web development</td>\n",
              "      <td>0.054005</td>\n",
              "    </tr>\n",
              "    <tr>\n",
              "      <th>3656</th>\n",
              "      <td>Capstone: Retrieving, Processing, and Visualiz...</td>\n",
              "      <td>University of Michigan</td>\n",
              "      <td>Beginner</td>\n",
              "      <td>5.1</td>\n",
              "      <td>4.6</td>\n",
              "      <td>https://www.coursera.org/learn/python-data-vis...</td>\n",
              "      <td>In the capstone, students will build a series ...</td>\n",
              "      <td>Databases; syntax; analysis; web; Data Visuali...</td>\n",
              "      <td>data-science</td>\n",
              "      <td>data-analysis</td>\n",
              "      <td>Databases syntax analysis web Data Visualizati...</td>\n",
              "      <td>1506</td>\n",
              "      <td>web development</td>\n",
              "      <td>0.109215</td>\n",
              "    </tr>\n",
              "    <tr>\n",
              "      <th>3659</th>\n",
              "      <td>Rigid Body Dynamics</td>\n",
              "      <td>Korea Advanced Institute of Science and Techno...</td>\n",
              "      <td>Beginner</td>\n",
              "      <td>3.2</td>\n",
              "      <td>4.6</td>\n",
              "      <td>https://www.coursera.org/learn/rigid-body-dyna...</td>\n",
              "      <td>This course teaches dynamics, one of the basic...</td>\n",
              "      <td>Angular; Mechanical Design; fluid mechanics; F...</td>\n",
              "      <td>physical-science-and-engineering</td>\n",
              "      <td>mechanical-engineering</td>\n",
              "      <td>Angular Mechanical Design fluid mechanics Fram...</td>\n",
              "      <td>1507</td>\n",
              "      <td>web development</td>\n",
              "      <td>0.103452</td>\n",
              "    </tr>\n",
              "  </tbody>\n",
              "</table>\n",
              "<p>1508 rows × 14 columns</p>\n",
              "</div>"
            ],
            "text/plain": [
              "                                            Course Name  ... cosine_sim\n",
              "0     Write A Feature Length Screenplay For Film Or ...  ...   0.167531\n",
              "1     Business Strategy: Business Model Canvas Analy...  ...   0.208273\n",
              "3     Anatomy of the Abdomen and Pelvis; a journey f...  ...   0.247383\n",
              "6          Retrieve Data using Single-Table SQL Queries  ...   0.199451\n",
              "7     Building Test Automation Framework using Selen...  ...   0.366266\n",
              "...                                                 ...  ...        ...\n",
              "3650             Visual Perception and Visual Illusions  ...   0.114800\n",
              "3651  Mining Data to Extract and Visualize Insights ...  ...   0.104828\n",
              "3655  Scalable Machine Learning on Big Data using Ap...  ...   0.054005\n",
              "3656  Capstone: Retrieving, Processing, and Visualiz...  ...   0.109215\n",
              "3659                                Rigid Body Dynamics  ...   0.103452\n",
              "\n",
              "[1508 rows x 14 columns]"
            ]
          },
          "metadata": {},
          "execution_count": 155
        }
      ]
    },
    {
      "cell_type": "code",
      "metadata": {
        "id": "ThIRproyFBmq"
      },
      "source": [
        "df_short = df_short.sort_values('cosine_sim', ascending = False)"
      ],
      "execution_count": 156,
      "outputs": []
    },
    {
      "cell_type": "code",
      "metadata": {
        "colab": {
          "base_uri": "https://localhost:8080/"
        },
        "id": "3SLuO-JyMv_-",
        "outputId": "2330fbc1-e7fe-4f14-94e3-f754708bbaa2"
      },
      "source": [
        "i=0\n",
        "print(\"Top 5 courses: \")\n",
        "df_short[0:5]['Course Name']"
      ],
      "execution_count": 157,
      "outputs": [
        {
          "output_type": "stream",
          "text": [
            "Top 5 courses: \n"
          ],
          "name": "stdout"
        },
        {
          "output_type": "execute_result",
          "data": {
            "text/plain": [
              "2637                            Introduction to CSS3\n",
              "1492    Building a Dynamic Web App using PHP & MySQL\n",
              "3548               Web Design for Everybody Capstone\n",
              "3555         Build a Google Firebase Web Application\n",
              "2220            Build a Full Website using WordPress\n",
              "Name: Course Name, dtype: object"
            ]
          },
          "metadata": {},
          "execution_count": 157
        }
      ]
    }
  ]
}