{
  "nbformat": 4,
  "nbformat_minor": 0,
  "metadata": {
    "colab": {
      "name": "RecommenderSystem.ipynb",
      "provenance": []
    },
    "kernelspec": {
      "name": "python3",
      "display_name": "Python 3"
    },
    "language_info": {
      "name": "python"
    }
  },
  "cells": [
    {
      "cell_type": "code",
      "metadata": {
        "id": "C1aPcfyLyW0n"
      },
      "source": [
        "import pandas as pd\n",
        "import numpy as np\n",
        "import seaborn as sns"
      ],
      "execution_count": 1,
      "outputs": []
    },
    {
      "cell_type": "code",
      "metadata": {
        "id": "071WwTwFy5CA"
      },
      "source": [
        "df = pd.read_csv('coursera.csv')"
      ],
      "execution_count": 2,
      "outputs": []
    },
    {
      "cell_type": "code",
      "metadata": {
        "colab": {
          "base_uri": "https://localhost:8080/",
          "height": 405
        },
        "id": "Uk_9NHx4y8ul",
        "outputId": "bb27d123-093e-422a-8a86-6c0a5d832cc2"
      },
      "source": [
        "df.head()"
      ],
      "execution_count": 3,
      "outputs": [
        {
          "output_type": "execute_result",
          "data": {
            "text/html": [
              "<div>\n",
              "<style scoped>\n",
              "    .dataframe tbody tr th:only-of-type {\n",
              "        vertical-align: middle;\n",
              "    }\n",
              "\n",
              "    .dataframe tbody tr th {\n",
              "        vertical-align: top;\n",
              "    }\n",
              "\n",
              "    .dataframe thead th {\n",
              "        text-align: right;\n",
              "    }\n",
              "</style>\n",
              "<table border=\"1\" class=\"dataframe\">\n",
              "  <thead>\n",
              "    <tr style=\"text-align: right;\">\n",
              "      <th></th>\n",
              "      <th>Course Name</th>\n",
              "      <th>University / Industry Partner Name</th>\n",
              "      <th>Difficulty Level</th>\n",
              "      <th>Average Hours</th>\n",
              "      <th>Course Rating</th>\n",
              "      <th>Course URL</th>\n",
              "      <th>Course Description</th>\n",
              "      <th>Skills Learned</th>\n",
              "      <th>Domain</th>\n",
              "      <th>Sub-Domain</th>\n",
              "    </tr>\n",
              "  </thead>\n",
              "  <tbody>\n",
              "    <tr>\n",
              "      <th>0</th>\n",
              "      <td>Write A Feature Length Screenplay For Film Or ...</td>\n",
              "      <td>Michigan State University</td>\n",
              "      <td>Beginner</td>\n",
              "      <td>16.6</td>\n",
              "      <td>4.8</td>\n",
              "      <td>https://www.coursera.org/learn/write-a-feature...</td>\n",
              "      <td>Write a Full Length Feature Film Script\\n\\nIn ...</td>\n",
              "      <td>Drama; Comedy; peering; screenwriting; film; D...</td>\n",
              "      <td>arts-and-humanities</td>\n",
              "      <td>music-and-art</td>\n",
              "    </tr>\n",
              "    <tr>\n",
              "      <th>1</th>\n",
              "      <td>Business Strategy: Business Model Canvas Analy...</td>\n",
              "      <td>Coursera Project Network</td>\n",
              "      <td>Beginner</td>\n",
              "      <td>0.5</td>\n",
              "      <td>4.8</td>\n",
              "      <td>https://www.coursera.org/learn/canvas-analysis...</td>\n",
              "      <td>By the end of this guided project, you will be...</td>\n",
              "      <td>Finance; business plan; persona (user experien...</td>\n",
              "      <td>business</td>\n",
              "      <td>business-strategy</td>\n",
              "    </tr>\n",
              "    <tr>\n",
              "      <th>2</th>\n",
              "      <td>Silicon Thin Film Solar Cells</td>\n",
              "      <td>École Polytechnique</td>\n",
              "      <td>Advanced</td>\n",
              "      <td>6</td>\n",
              "      <td>4.1</td>\n",
              "      <td>https://www.coursera.org/learn/silicon-thin-fi...</td>\n",
              "      <td>This course consists of a general presentation...</td>\n",
              "      <td>chemistry; physics; Solar Energy; film; lambda...</td>\n",
              "      <td>physical-science-and-engineering</td>\n",
              "      <td>electrical-engineering</td>\n",
              "    </tr>\n",
              "    <tr>\n",
              "      <th>3</th>\n",
              "      <td>Anatomy of the Abdomen and Pelvis; a journey f...</td>\n",
              "      <td>Universiteit Leiden</td>\n",
              "      <td>Beginner</td>\n",
              "      <td>31.3</td>\n",
              "      <td>4.8</td>\n",
              "      <td>https://www.coursera.org/learn/abdomen-anatomy</td>\n",
              "      <td>In this anatomy course you will explore the or...</td>\n",
              "      <td>pain; spleen; enteric nervous system; canning;...</td>\n",
              "      <td>life-sciences</td>\n",
              "      <td>basic-science</td>\n",
              "    </tr>\n",
              "    <tr>\n",
              "      <th>4</th>\n",
              "      <td>Finance for Managers</td>\n",
              "      <td>IESE Business School</td>\n",
              "      <td>Intermediate</td>\n",
              "      <td>13</td>\n",
              "      <td>4.8</td>\n",
              "      <td>https://www.coursera.org/learn/operational-fin...</td>\n",
              "      <td>When it comes to numbers, there is always more...</td>\n",
              "      <td>accounts receivable; dupont analysis; analysis...</td>\n",
              "      <td>business</td>\n",
              "      <td>finance</td>\n",
              "    </tr>\n",
              "  </tbody>\n",
              "</table>\n",
              "</div>"
            ],
            "text/plain": [
              "                                         Course Name  ...              Sub-Domain\n",
              "0  Write A Feature Length Screenplay For Film Or ...  ...           music-and-art\n",
              "1  Business Strategy: Business Model Canvas Analy...  ...       business-strategy\n",
              "2                      Silicon Thin Film Solar Cells  ...  electrical-engineering\n",
              "3  Anatomy of the Abdomen and Pelvis; a journey f...  ...           basic-science\n",
              "4                               Finance for Managers  ...                 finance\n",
              "\n",
              "[5 rows x 10 columns]"
            ]
          },
          "metadata": {},
          "execution_count": 3
        }
      ]
    },
    {
      "cell_type": "code",
      "metadata": {
        "colab": {
          "base_uri": "https://localhost:8080/"
        },
        "id": "kIipW2Spy-Wv",
        "outputId": "54d442c0-31be-4753-ddf3-a3d9fb1402de"
      },
      "source": [
        "df.isnull().sum()"
      ],
      "execution_count": 4,
      "outputs": [
        {
          "output_type": "execute_result",
          "data": {
            "text/plain": [
              "Course Name                           0\n",
              "University / Industry Partner Name    0\n",
              "Difficulty Level                      0\n",
              "Average Hours                         0\n",
              "Course Rating                         0\n",
              "Course URL                            0\n",
              "Course Description                    0\n",
              "Skills Learned                        0\n",
              "Domain                                0\n",
              "Sub-Domain                            0\n",
              "dtype: int64"
            ]
          },
          "metadata": {},
          "execution_count": 4
        }
      ]
    },
    {
      "cell_type": "code",
      "metadata": {
        "colab": {
          "base_uri": "https://localhost:8080/"
        },
        "id": "neVdiBKQzAyA",
        "outputId": "63302a1f-50d5-43d0-acac-6f4709160be2"
      },
      "source": [
        "df.shape"
      ],
      "execution_count": 5,
      "outputs": [
        {
          "output_type": "execute_result",
          "data": {
            "text/plain": [
              "(3662, 10)"
            ]
          },
          "metadata": {},
          "execution_count": 5
        }
      ]
    },
    {
      "cell_type": "code",
      "metadata": {
        "colab": {
          "base_uri": "https://localhost:8080/"
        },
        "id": "AHCglQRozC1p",
        "outputId": "0982fa7f-391b-40af-861a-79d56f57d45d"
      },
      "source": [
        "df.columns"
      ],
      "execution_count": 6,
      "outputs": [
        {
          "output_type": "execute_result",
          "data": {
            "text/plain": [
              "Index(['Course Name', 'University / Industry Partner Name', 'Difficulty Level',\n",
              "       'Average Hours', 'Course Rating', 'Course URL', 'Course Description',\n",
              "       'Skills Learned', 'Domain', 'Sub-Domain'],\n",
              "      dtype='object')"
            ]
          },
          "metadata": {},
          "execution_count": 6
        }
      ]
    },
    {
      "cell_type": "code",
      "metadata": {
        "id": "sR2fO7dIzJE6"
      },
      "source": [
        "df.dropna(axis=0, how='any',inplace=True)"
      ],
      "execution_count": 7,
      "outputs": []
    },
    {
      "cell_type": "code",
      "metadata": {
        "colab": {
          "base_uri": "https://localhost:8080/"
        },
        "id": "BVjWdnR2zQdq",
        "outputId": "c07c5525-ea49-47de-a8be-6c4bbac63d2b"
      },
      "source": [
        "df.isnull().sum()"
      ],
      "execution_count": 8,
      "outputs": [
        {
          "output_type": "execute_result",
          "data": {
            "text/plain": [
              "Course Name                           0\n",
              "University / Industry Partner Name    0\n",
              "Difficulty Level                      0\n",
              "Average Hours                         0\n",
              "Course Rating                         0\n",
              "Course URL                            0\n",
              "Course Description                    0\n",
              "Skills Learned                        0\n",
              "Domain                                0\n",
              "Sub-Domain                            0\n",
              "dtype: int64"
            ]
          },
          "metadata": {},
          "execution_count": 8
        }
      ]
    },
    {
      "cell_type": "code",
      "metadata": {
        "colab": {
          "base_uri": "https://localhost:8080/"
        },
        "id": "TQtpcOuZzXW-",
        "outputId": "c5fb74b8-422f-48ec-96fe-9ab7f52d0df9"
      },
      "source": [
        "df.shape"
      ],
      "execution_count": 9,
      "outputs": [
        {
          "output_type": "execute_result",
          "data": {
            "text/plain": [
              "(3662, 10)"
            ]
          },
          "metadata": {},
          "execution_count": 9
        }
      ]
    },
    {
      "cell_type": "code",
      "metadata": {
        "colab": {
          "base_uri": "https://localhost:8080/"
        },
        "id": "daVmTR-A9cOp",
        "outputId": "15c6d562-3fc6-45bf-a4b7-5dda068ae41a"
      },
      "source": [
        "difficulty_level = input('Enter difficulty level: ')\n",
        "skill = input('Enter skill: ')"
      ],
      "execution_count": 10,
      "outputs": [
        {
          "output_type": "stream",
          "text": [
            "Enter difficulty level: Beginner\n",
            "Enter skill: data analysis\n"
          ],
          "name": "stdout"
        }
      ]
    },
    {
      "cell_type": "code",
      "metadata": {
        "id": "kg9fPcxg-gmz"
      },
      "source": [
        "df_short = df.loc[df['Difficulty Level']==difficulty_level,:]"
      ],
      "execution_count": 11,
      "outputs": []
    },
    {
      "cell_type": "code",
      "metadata": {
        "colab": {
          "base_uri": "https://localhost:8080/"
        },
        "id": "RC_RzhNFBKZR",
        "outputId": "ce8df0ad-cd82-422b-bf16-43a6d85ab8fd"
      },
      "source": [
        "df_short['skill_domain'] = df_short['Skills Learned'] + ' ' + df_short['Domain'] + ' ' + df_short['Sub-Domain']"
      ],
      "execution_count": 12,
      "outputs": [
        {
          "output_type": "stream",
          "text": [
            "/usr/local/lib/python3.7/dist-packages/ipykernel_launcher.py:1: SettingWithCopyWarning: \n",
            "A value is trying to be set on a copy of a slice from a DataFrame.\n",
            "Try using .loc[row_indexer,col_indexer] = value instead\n",
            "\n",
            "See the caveats in the documentation: https://pandas.pydata.org/pandas-docs/stable/user_guide/indexing.html#returning-a-view-versus-a-copy\n",
            "  \"\"\"Entry point for launching an IPython kernel.\n"
          ],
          "name": "stderr"
        }
      ]
    },
    {
      "cell_type": "code",
      "metadata": {
        "colab": {
          "base_uri": "https://localhost:8080/"
        },
        "id": "gCYpKz2IHi2W",
        "outputId": "ed5c3fd8-e680-4279-986a-2e2204b71e96"
      },
      "source": [
        "df_short['index'] = np.arange(0, df_short.shape[0])"
      ],
      "execution_count": 13,
      "outputs": [
        {
          "output_type": "stream",
          "text": [
            "/usr/local/lib/python3.7/dist-packages/ipykernel_launcher.py:1: SettingWithCopyWarning: \n",
            "A value is trying to be set on a copy of a slice from a DataFrame.\n",
            "Try using .loc[row_indexer,col_indexer] = value instead\n",
            "\n",
            "See the caveats in the documentation: https://pandas.pydata.org/pandas-docs/stable/user_guide/indexing.html#returning-a-view-versus-a-copy\n",
            "  \"\"\"Entry point for launching an IPython kernel.\n"
          ],
          "name": "stderr"
        }
      ]
    },
    {
      "cell_type": "code",
      "metadata": {
        "colab": {
          "base_uri": "https://localhost:8080/"
        },
        "id": "VEip_zmvBv4U",
        "outputId": "7cb04e5c-ad14-4bf9-e8bf-df0bd2fba5c2"
      },
      "source": [
        "def remove_punctuation(skilldomain):\n",
        "  skilldomain = skilldomain.replace(';','')\n",
        "  skilldomain = skilldomain.replace('-','')\n",
        "  return skilldomain\n",
        "\n",
        "df_short['skill_domain']=df_short['skill_domain'].apply(remove_punctuation)"
      ],
      "execution_count": 14,
      "outputs": [
        {
          "output_type": "stream",
          "text": [
            "/usr/local/lib/python3.7/dist-packages/ipykernel_launcher.py:6: SettingWithCopyWarning: \n",
            "A value is trying to be set on a copy of a slice from a DataFrame.\n",
            "Try using .loc[row_indexer,col_indexer] = value instead\n",
            "\n",
            "See the caveats in the documentation: https://pandas.pydata.org/pandas-docs/stable/user_guide/indexing.html#returning-a-view-versus-a-copy\n",
            "  \n"
          ],
          "name": "stderr"
        }
      ]
    },
    {
      "cell_type": "code",
      "metadata": {
        "colab": {
          "base_uri": "https://localhost:8080/",
          "height": 1000
        },
        "id": "eK1NmWWmCiff",
        "outputId": "eb68c760-67e5-451c-a2a8-6ad9098fdf2e"
      },
      "source": [
        "df_short"
      ],
      "execution_count": 15,
      "outputs": [
        {
          "output_type": "execute_result",
          "data": {
            "text/html": [
              "<div>\n",
              "<style scoped>\n",
              "    .dataframe tbody tr th:only-of-type {\n",
              "        vertical-align: middle;\n",
              "    }\n",
              "\n",
              "    .dataframe tbody tr th {\n",
              "        vertical-align: top;\n",
              "    }\n",
              "\n",
              "    .dataframe thead th {\n",
              "        text-align: right;\n",
              "    }\n",
              "</style>\n",
              "<table border=\"1\" class=\"dataframe\">\n",
              "  <thead>\n",
              "    <tr style=\"text-align: right;\">\n",
              "      <th></th>\n",
              "      <th>Course Name</th>\n",
              "      <th>University / Industry Partner Name</th>\n",
              "      <th>Difficulty Level</th>\n",
              "      <th>Average Hours</th>\n",
              "      <th>Course Rating</th>\n",
              "      <th>Course URL</th>\n",
              "      <th>Course Description</th>\n",
              "      <th>Skills Learned</th>\n",
              "      <th>Domain</th>\n",
              "      <th>Sub-Domain</th>\n",
              "      <th>skill_domain</th>\n",
              "      <th>index</th>\n",
              "    </tr>\n",
              "  </thead>\n",
              "  <tbody>\n",
              "    <tr>\n",
              "      <th>0</th>\n",
              "      <td>Write A Feature Length Screenplay For Film Or ...</td>\n",
              "      <td>Michigan State University</td>\n",
              "      <td>Beginner</td>\n",
              "      <td>16.6</td>\n",
              "      <td>4.8</td>\n",
              "      <td>https://www.coursera.org/learn/write-a-feature...</td>\n",
              "      <td>Write a Full Length Feature Film Script\\n\\nIn ...</td>\n",
              "      <td>Drama; Comedy; peering; screenwriting; film; D...</td>\n",
              "      <td>arts-and-humanities</td>\n",
              "      <td>music-and-art</td>\n",
              "      <td>Drama Comedy peering screenwriting film Docume...</td>\n",
              "      <td>0</td>\n",
              "    </tr>\n",
              "    <tr>\n",
              "      <th>1</th>\n",
              "      <td>Business Strategy: Business Model Canvas Analy...</td>\n",
              "      <td>Coursera Project Network</td>\n",
              "      <td>Beginner</td>\n",
              "      <td>0.5</td>\n",
              "      <td>4.8</td>\n",
              "      <td>https://www.coursera.org/learn/canvas-analysis...</td>\n",
              "      <td>By the end of this guided project, you will be...</td>\n",
              "      <td>Finance; business plan; persona (user experien...</td>\n",
              "      <td>business</td>\n",
              "      <td>business-strategy</td>\n",
              "      <td>Finance business plan persona (user experience...</td>\n",
              "      <td>1</td>\n",
              "    </tr>\n",
              "    <tr>\n",
              "      <th>3</th>\n",
              "      <td>Anatomy of the Abdomen and Pelvis; a journey f...</td>\n",
              "      <td>Universiteit Leiden</td>\n",
              "      <td>Beginner</td>\n",
              "      <td>31.3</td>\n",
              "      <td>4.8</td>\n",
              "      <td>https://www.coursera.org/learn/abdomen-anatomy</td>\n",
              "      <td>In this anatomy course you will explore the or...</td>\n",
              "      <td>pain; spleen; enteric nervous system; canning;...</td>\n",
              "      <td>life-sciences</td>\n",
              "      <td>basic-science</td>\n",
              "      <td>pain spleen enteric nervous system canning pel...</td>\n",
              "      <td>2</td>\n",
              "    </tr>\n",
              "    <tr>\n",
              "      <th>6</th>\n",
              "      <td>Retrieve Data using Single-Table SQL Queries</td>\n",
              "      <td>Coursera Project Network</td>\n",
              "      <td>Beginner</td>\n",
              "      <td>0.3</td>\n",
              "      <td>4.6</td>\n",
              "      <td>https://www.coursera.org/learn/single-table-sq...</td>\n",
              "      <td>In this course you’ll learn how to effectively...</td>\n",
              "      <td>Data Analysis; select (sql); database manageme...</td>\n",
              "      <td>information-technology</td>\n",
              "      <td>data-management</td>\n",
              "      <td>Data Analysis select (sql) database management...</td>\n",
              "      <td>3</td>\n",
              "    </tr>\n",
              "    <tr>\n",
              "      <th>7</th>\n",
              "      <td>Building Test Automation Framework using Selen...</td>\n",
              "      <td>Coursera Project Network</td>\n",
              "      <td>Beginner</td>\n",
              "      <td>0.6</td>\n",
              "      <td>4.7</td>\n",
              "      <td>https://www.coursera.org/learn/building-test-a...</td>\n",
              "      <td>Selenium is one of the most widely used functi...</td>\n",
              "      <td>maintenance; test case; test automation; scree...</td>\n",
              "      <td>computer-science</td>\n",
              "      <td>software-development</td>\n",
              "      <td>maintenance test case test automation screensh...</td>\n",
              "      <td>4</td>\n",
              "    </tr>\n",
              "    <tr>\n",
              "      <th>...</th>\n",
              "      <td>...</td>\n",
              "      <td>...</td>\n",
              "      <td>...</td>\n",
              "      <td>...</td>\n",
              "      <td>...</td>\n",
              "      <td>...</td>\n",
              "      <td>...</td>\n",
              "      <td>...</td>\n",
              "      <td>...</td>\n",
              "      <td>...</td>\n",
              "      <td>...</td>\n",
              "      <td>...</td>\n",
              "    </tr>\n",
              "    <tr>\n",
              "      <th>3650</th>\n",
              "      <td>Visual Perception and Visual Illusions</td>\n",
              "      <td>Saint Petersburg State University</td>\n",
              "      <td>Beginner</td>\n",
              "      <td>18.8</td>\n",
              "      <td>Not Calibrated</td>\n",
              "      <td>https://www.coursera.org/learn/visualperception</td>\n",
              "      <td>Vision is one of the main ways for us to gathe...</td>\n",
              "      <td>goms; art; learnability; cognitive behavioral ...</td>\n",
              "      <td>life-sciences</td>\n",
              "      <td>psychology</td>\n",
              "      <td>goms art learnability cognitive behavioral the...</td>\n",
              "      <td>1503</td>\n",
              "    </tr>\n",
              "    <tr>\n",
              "      <th>3651</th>\n",
              "      <td>Mining Data to Extract and Visualize Insights ...</td>\n",
              "      <td>Coursera Project Network</td>\n",
              "      <td>Beginner</td>\n",
              "      <td>0.3</td>\n",
              "      <td>4.2</td>\n",
              "      <td>https://www.coursera.org/learn/data-mining-vis...</td>\n",
              "      <td>By the end of this project, you will learn how...</td>\n",
              "      <td>Python Programming; analysis; General Statisti...</td>\n",
              "      <td>data-science</td>\n",
              "      <td>data-analysis</td>\n",
              "      <td>Python Programming analysis General Statistics...</td>\n",
              "      <td>1504</td>\n",
              "    </tr>\n",
              "    <tr>\n",
              "      <th>3655</th>\n",
              "      <td>Scalable Machine Learning on Big Data using Ap...</td>\n",
              "      <td>IBM</td>\n",
              "      <td>Beginner</td>\n",
              "      <td>8.3</td>\n",
              "      <td>3.4</td>\n",
              "      <td>https://www.coursera.org/learn/machine-learnin...</td>\n",
              "      <td>This course will empower you with the skills t...</td>\n",
              "      <td>Apache; Human Learning; scalability; functiona...</td>\n",
              "      <td>data-science</td>\n",
              "      <td>machine-learning</td>\n",
              "      <td>Apache Human Learning scalability functional p...</td>\n",
              "      <td>1505</td>\n",
              "    </tr>\n",
              "    <tr>\n",
              "      <th>3656</th>\n",
              "      <td>Capstone: Retrieving, Processing, and Visualiz...</td>\n",
              "      <td>University of Michigan</td>\n",
              "      <td>Beginner</td>\n",
              "      <td>5.1</td>\n",
              "      <td>4.6</td>\n",
              "      <td>https://www.coursera.org/learn/python-data-vis...</td>\n",
              "      <td>In the capstone, students will build a series ...</td>\n",
              "      <td>Databases; syntax; analysis; web; Data Visuali...</td>\n",
              "      <td>data-science</td>\n",
              "      <td>data-analysis</td>\n",
              "      <td>Databases syntax analysis web Data Visualizati...</td>\n",
              "      <td>1506</td>\n",
              "    </tr>\n",
              "    <tr>\n",
              "      <th>3659</th>\n",
              "      <td>Rigid Body Dynamics</td>\n",
              "      <td>Korea Advanced Institute of Science and Techno...</td>\n",
              "      <td>Beginner</td>\n",
              "      <td>3.2</td>\n",
              "      <td>4.6</td>\n",
              "      <td>https://www.coursera.org/learn/rigid-body-dyna...</td>\n",
              "      <td>This course teaches dynamics, one of the basic...</td>\n",
              "      <td>Angular; Mechanical Design; fluid mechanics; F...</td>\n",
              "      <td>physical-science-and-engineering</td>\n",
              "      <td>mechanical-engineering</td>\n",
              "      <td>Angular Mechanical Design fluid mechanics Fram...</td>\n",
              "      <td>1507</td>\n",
              "    </tr>\n",
              "  </tbody>\n",
              "</table>\n",
              "<p>1508 rows × 12 columns</p>\n",
              "</div>"
            ],
            "text/plain": [
              "                                            Course Name  ... index\n",
              "0     Write A Feature Length Screenplay For Film Or ...  ...     0\n",
              "1     Business Strategy: Business Model Canvas Analy...  ...     1\n",
              "3     Anatomy of the Abdomen and Pelvis; a journey f...  ...     2\n",
              "6          Retrieve Data using Single-Table SQL Queries  ...     3\n",
              "7     Building Test Automation Framework using Selen...  ...     4\n",
              "...                                                 ...  ...   ...\n",
              "3650             Visual Perception and Visual Illusions  ...  1503\n",
              "3651  Mining Data to Extract and Visualize Insights ...  ...  1504\n",
              "3655  Scalable Machine Learning on Big Data using Ap...  ...  1505\n",
              "3656  Capstone: Retrieving, Processing, and Visualiz...  ...  1506\n",
              "3659                                Rigid Body Dynamics  ...  1507\n",
              "\n",
              "[1508 rows x 12 columns]"
            ]
          },
          "metadata": {},
          "execution_count": 15
        }
      ]
    },
    {
      "cell_type": "code",
      "metadata": {
        "id": "rUkzV2pRCnKb"
      },
      "source": [
        "from sklearn.feature_extraction.text import CountVectorizer\n",
        "cv = CountVectorizer() \n",
        "count_matrix = cv.fit_transform(df_short['skill_domain']) "
      ],
      "execution_count": 16,
      "outputs": []
    },
    {
      "cell_type": "code",
      "metadata": {
        "id": "UwMcyD01DlUs"
      },
      "source": [
        "from sklearn.metrics.pairwise import cosine_similarity\n",
        "cosine_sim = cosine_similarity(count_matrix)"
      ],
      "execution_count": 17,
      "outputs": []
    },
    {
      "cell_type": "code",
      "metadata": {
        "id": "PpSe8aSbEnMB"
      },
      "source": [
        "def title_from_index(index):\n",
        "  return df_short[df_short['index'] == index]['Course Name'].values[0]\n",
        "def index_from_title(title):\n",
        "  return df_short[df_short['Course Name'] == title]['index'].values[0]"
      ],
      "execution_count": 18,
      "outputs": []
    },
    {
      "cell_type": "code",
      "metadata": {
        "colab": {
          "base_uri": "https://localhost:8080/"
        },
        "id": "ThIRproyFBmq",
        "outputId": "7d779cd0-ba9e-434a-978a-e6dccf21cc3c"
      },
      "source": [
        "course_previous = input('Enter course previously done: ')\n",
        "course_index = index_from_title(course_previous)\n",
        "similar_courses = list(enumerate(cosine_sim[course_index])) "
      ],
      "execution_count": 19,
      "outputs": [
        {
          "output_type": "stream",
          "text": [
            "Enter course previously done: Retrieve Data using Single-Table SQL Queries\n"
          ],
          "name": "stdout"
        }
      ]
    },
    {
      "cell_type": "code",
      "metadata": {
        "id": "LcSdFlUUMrRJ"
      },
      "source": [
        "sorted_similar_courses = sorted(similar_courses,key=lambda x:x[1],reverse=True)[1:]"
      ],
      "execution_count": 20,
      "outputs": []
    },
    {
      "cell_type": "code",
      "metadata": {
        "colab": {
          "base_uri": "https://localhost:8080/"
        },
        "id": "3SLuO-JyMv_-",
        "outputId": "51a4c337-164a-4c3d-d659-f3d615e6dab1"
      },
      "source": [
        "i=0\n",
        "print(\"Top 5 similar courses to \"+course_previous+\" are:\\n\")\n",
        "for element in sorted_similar_courses:\n",
        "  print(title_from_index(element[0]))\n",
        "  i=i+1\n",
        "  if i>5:\n",
        "      break"
      ],
      "execution_count": 21,
      "outputs": [
        {
          "output_type": "stream",
          "text": [
            "Top 5 similar courses to Retrieve Data using Single-Table SQL Queries are:\n",
            "\n",
            "Manipulating Data with SQL\n",
            "Creating Database Tables with SQL\n",
            "Create Relational Database Tables Using SQLiteStudio\n",
            "Managing Big Data with MySQL\n",
            "Retrieve Data with Multiple-Table SQL Queries\n",
            "Database Design and Diagramming in Dia\n"
          ],
          "name": "stdout"
        }
      ]
    }
  ]
}