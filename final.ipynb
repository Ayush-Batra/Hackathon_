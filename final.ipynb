{
 "cells": [
  {
   "cell_type": "code",
   "execution_count": 2,
   "id": "17112708",
   "metadata": {},
   "outputs": [
    {
     "name": "stdout",
     "output_type": "stream",
     "text": [
      "Defaulting to user installation because normal site-packages is not writeable\n",
      "Requirement already satisfied: strsim in /home/ayush/.local/lib/python3.8/site-packages (0.0.3)\n",
      "\u001b[33mWARNING: You are using pip version 21.2.2; however, version 21.2.4 is available.\n",
      "You should consider upgrading via the '/usr/bin/python3 -m pip install --upgrade pip' command.\u001b[0m\n"
     ]
    }
   ],
   "source": [
    "!pip install strsim"
   ]
  },
  {
   "cell_type": "code",
   "execution_count": 71,
   "id": "53ab94cb",
   "metadata": {},
   "outputs": [],
   "source": [
    "import pandas as pd\n",
    "from sklearn import neighbors, datasets\n",
    "from numpy.random import permutation\n",
    "import matplotlib.pyplot as plt\n",
    "import numpy as np\n",
    "import string\n",
    "from sklearn import svm\n",
    "from sklearn.ensemble import RandomForestClassifier\n",
    "from sklearn.metrics import precision_recall_fscore_support\n",
    "from sklearn.feature_extraction.text import CountVectorizer\n",
    "from sklearn.metrics.pairwise import cosine_similarity\n",
    "from similarity.cosine import Cosine"
   ]
  },
  {
   "cell_type": "code",
   "execution_count": 72,
   "id": "ddcddcde",
   "metadata": {},
   "outputs": [],
   "source": [
    "df = pd.read_csv(\"Udacity.csv\")"
   ]
  },
  {
   "cell_type": "code",
   "execution_count": 73,
   "id": "b960e1d3",
   "metadata": {},
   "outputs": [],
   "source": [
    "def course_difficulty(level):\n",
    "    data = df.copy().loc[df['Level']==level]\n",
    "    data['index'] = np.arange(0, data.shape[0])\n",
    "    return data"
   ]
  },
  {
   "cell_type": "code",
   "execution_count": 74,
   "id": "44b00549",
   "metadata": {},
   "outputs": [],
   "source": [
    "def remove_punctuations(text):\n",
    "    text = str(text) \n",
    "    for punctuation in string.punctuation:\n",
    "        text = text.replace(punctuation, '')\n",
    "    return text"
   ]
  },
  {
   "cell_type": "code",
   "execution_count": 75,
   "id": "a6c62dbf",
   "metadata": {},
   "outputs": [],
   "source": [
    "def recommender_system(skill):\n",
    "    cosine = Cosine(2)\n",
    "    data[\"skill\"] = skill\n",
    "    data[\"p0\"] = data[\"skill\"].apply(lambda s: cosine.get_profile(s)) \n",
    "    data[\"p1\"] = data[\"new_column\"].apply(lambda s: cosine.get_profile(s)) \n",
    "    data[\"cosine_sim\"] = [cosine.similarity_profiles(p0,p1) for p0,p1 in zip(data[\"p0\"],data[\"p1\"])]\n",
    "    data.drop([\"p0\", \"p1\"], axis=1,inplace =  True)\n",
    "    return data"
   ]
  },
  {
   "cell_type": "code",
   "execution_count": 76,
   "id": "873c205e",
   "metadata": {},
   "outputs": [
    {
     "name": "stdout",
     "output_type": "stream",
     "text": [
      "Enter your level\n",
      "beginner\n"
     ]
    }
   ],
   "source": [
    "print(\"Enter your level\")\n",
    "level = input()\n",
    "data = course_difficulty(level)\n",
    "data\n",
    "data['final'] = data['Skills'] + data['About'] + data['Course_Name']\n",
    "data['new_column'] = data['final'].apply(remove_punctuations)"
   ]
  },
  {
   "cell_type": "code",
   "execution_count": 77,
   "id": "05824e44",
   "metadata": {},
   "outputs": [
    {
     "name": "stdout",
     "output_type": "stream",
     "text": [
      "Enter course previously done: web dev\n"
     ]
    }
   ],
   "source": [
    "skill = input('Enter course previously done: ')\n",
    "final = recommender_system(skill)"
   ]
  },
  {
   "cell_type": "code",
   "execution_count": 78,
   "id": "7f1e19f5",
   "metadata": {},
   "outputs": [],
   "source": [
    "data = data.sort_values('cosine_sim', ascending = False)"
   ]
  },
  {
   "cell_type": "code",
   "execution_count": 79,
   "id": "2a10d84a",
   "metadata": {},
   "outputs": [
    {
     "data": {
      "text/plain": [
       "128    0.164214\n",
       "235    0.151673\n",
       "43     0.143336\n",
       "193    0.137469\n",
       "188    0.137361\n",
       "Name: cosine_sim, dtype: float64"
      ]
     },
     "execution_count": 79,
     "metadata": {},
     "output_type": "execute_result"
    }
   ],
   "source": [
    "data[0:5]['cosine_sim']"
   ]
  },
  {
   "cell_type": "code",
   "execution_count": 80,
   "id": "f3c14ffe",
   "metadata": {},
   "outputs": [
    {
     "data": {
      "text/html": [
       "<div>\n",
       "<style scoped>\n",
       "    .dataframe tbody tr th:only-of-type {\n",
       "        vertical-align: middle;\n",
       "    }\n",
       "\n",
       "    .dataframe tbody tr th {\n",
       "        vertical-align: top;\n",
       "    }\n",
       "\n",
       "    .dataframe thead th {\n",
       "        text-align: right;\n",
       "    }\n",
       "</style>\n",
       "<table border=\"1\" class=\"dataframe\">\n",
       "  <thead>\n",
       "    <tr style=\"text-align: right;\">\n",
       "      <th></th>\n",
       "      <th>Course_Name</th>\n",
       "      <th>Rating</th>\n",
       "      <th>Level</th>\n",
       "      <th>Organization</th>\n",
       "      <th>Link</th>\n",
       "      <th>About</th>\n",
       "      <th>Skills</th>\n",
       "      <th>index</th>\n",
       "      <th>final</th>\n",
       "      <th>new_column</th>\n",
       "      <th>skill</th>\n",
       "      <th>cosine_sim</th>\n",
       "    </tr>\n",
       "  </thead>\n",
       "  <tbody>\n",
       "    <tr>\n",
       "      <th>128</th>\n",
       "      <td>Microsoft Power Platform</td>\n",
       "      <td>beginner1 Month</td>\n",
       "      <td>beginner</td>\n",
       "      <td>School of Programming &amp; Development</td>\n",
       "      <td>https://www.udacity.com//course/microsoft-powe...</td>\n",
       "      <td>Learn to build powerful and effective solution...</td>\n",
       "      <td>Microsoft Power Platform, Power Apps, Power Au...</td>\n",
       "      <td>32</td>\n",
       "      <td>Microsoft Power Platform, Power Apps, Power Au...</td>\n",
       "      <td>Microsoft Power Platform Power Apps Power Auto...</td>\n",
       "      <td>web dev</td>\n",
       "      <td>0.164214</td>\n",
       "    </tr>\n",
       "    <tr>\n",
       "      <th>235</th>\n",
       "      <td>Intro to Point &amp; Click App Development</td>\n",
       "      <td>beginner1 Month</td>\n",
       "      <td>beginner</td>\n",
       "      <td>School of Programming &amp; Development</td>\n",
       "      <td>https://www.udacity.com//course/intro-to-point...</td>\n",
       "      <td>In this short class you'll build powerful apps...</td>\n",
       "      <td>Salesforce App Development, Schema Building, D...</td>\n",
       "      <td>59</td>\n",
       "      <td>Salesforce App Development, Schema Building, D...</td>\n",
       "      <td>Salesforce App Development Schema Building Dat...</td>\n",
       "      <td>web dev</td>\n",
       "      <td>0.151673</td>\n",
       "    </tr>\n",
       "    <tr>\n",
       "      <th>43</th>\n",
       "      <td>Agile Software Development</td>\n",
       "      <td>beginner3 Months4.6 stars75 reviews</td>\n",
       "      <td>beginner</td>\n",
       "      <td>School of Product Management</td>\n",
       "      <td>https://www.udacity.com//course/agile-software...</td>\n",
       "      <td>The Agile Software Development Nanodegree prog...</td>\n",
       "      <td>Agile, Scrum, Kanban, XP, Minimum Viable Product</td>\n",
       "      <td>12</td>\n",
       "      <td>Agile, Scrum, Kanban, XP, Minimum Viable Produ...</td>\n",
       "      <td>Agile Scrum Kanban XP Minimum Viable ProductTh...</td>\n",
       "      <td>web dev</td>\n",
       "      <td>0.143336</td>\n",
       "    </tr>\n",
       "    <tr>\n",
       "      <th>193</th>\n",
       "      <td>Intro to HTML and CSS</td>\n",
       "      <td>beginner3 Weeks</td>\n",
       "      <td>beginner</td>\n",
       "      <td>School of Programming &amp; Development</td>\n",
       "      <td>https://www.udacity.com//course/intro-to-html-...</td>\n",
       "      <td>In this course, you'll learn the fundamentals ...</td>\n",
       "      <td>HTML, CSS, CSS Syntax, HTML Syntax Problem Set</td>\n",
       "      <td>50</td>\n",
       "      <td>HTML, CSS, CSS Syntax, HTML Syntax Problem Set...</td>\n",
       "      <td>HTML CSS CSS Syntax HTML Syntax Problem SetIn ...</td>\n",
       "      <td>web dev</td>\n",
       "      <td>0.137469</td>\n",
       "    </tr>\n",
       "    <tr>\n",
       "      <th>188</th>\n",
       "      <td>Intro to JavaScript</td>\n",
       "      <td>beginner2 Weeks</td>\n",
       "      <td>beginner</td>\n",
       "      <td>School of Programming &amp; Development</td>\n",
       "      <td>https://www.udacity.com//course/intro-to-javas...</td>\n",
       "      <td>Learn the fundamentals of JavaScript, the most...</td>\n",
       "      <td>JavaScript, Conditionals, Loops, Data Types &amp;a...</td>\n",
       "      <td>47</td>\n",
       "      <td>JavaScript, Conditionals, Loops, Data Types &amp;a...</td>\n",
       "      <td>JavaScript Conditionals Loops Data Types amp V...</td>\n",
       "      <td>web dev</td>\n",
       "      <td>0.137361</td>\n",
       "    </tr>\n",
       "  </tbody>\n",
       "</table>\n",
       "</div>"
      ],
      "text/plain": [
       "                                Course_Name  \\\n",
       "128                Microsoft Power Platform   \n",
       "235  Intro to Point & Click App Development   \n",
       "43               Agile Software Development   \n",
       "193                   Intro to HTML and CSS   \n",
       "188                     Intro to JavaScript   \n",
       "\n",
       "                                  Rating     Level  \\\n",
       "128                      beginner1 Month  beginner   \n",
       "235                      beginner1 Month  beginner   \n",
       "43   beginner3 Months4.6 stars75 reviews  beginner   \n",
       "193                      beginner3 Weeks  beginner   \n",
       "188                      beginner2 Weeks  beginner   \n",
       "\n",
       "                            Organization  \\\n",
       "128  School of Programming & Development   \n",
       "235  School of Programming & Development   \n",
       "43          School of Product Management   \n",
       "193  School of Programming & Development   \n",
       "188  School of Programming & Development   \n",
       "\n",
       "                                                  Link  \\\n",
       "128  https://www.udacity.com//course/microsoft-powe...   \n",
       "235  https://www.udacity.com//course/intro-to-point...   \n",
       "43   https://www.udacity.com//course/agile-software...   \n",
       "193  https://www.udacity.com//course/intro-to-html-...   \n",
       "188  https://www.udacity.com//course/intro-to-javas...   \n",
       "\n",
       "                                                 About  \\\n",
       "128  Learn to build powerful and effective solution...   \n",
       "235  In this short class you'll build powerful apps...   \n",
       "43   The Agile Software Development Nanodegree prog...   \n",
       "193  In this course, you'll learn the fundamentals ...   \n",
       "188  Learn the fundamentals of JavaScript, the most...   \n",
       "\n",
       "                                                Skills  index  \\\n",
       "128  Microsoft Power Platform, Power Apps, Power Au...     32   \n",
       "235  Salesforce App Development, Schema Building, D...     59   \n",
       "43    Agile, Scrum, Kanban, XP, Minimum Viable Product     12   \n",
       "193     HTML, CSS, CSS Syntax, HTML Syntax Problem Set     50   \n",
       "188  JavaScript, Conditionals, Loops, Data Types &a...     47   \n",
       "\n",
       "                                                 final  \\\n",
       "128  Microsoft Power Platform, Power Apps, Power Au...   \n",
       "235  Salesforce App Development, Schema Building, D...   \n",
       "43   Agile, Scrum, Kanban, XP, Minimum Viable Produ...   \n",
       "193  HTML, CSS, CSS Syntax, HTML Syntax Problem Set...   \n",
       "188  JavaScript, Conditionals, Loops, Data Types &a...   \n",
       "\n",
       "                                            new_column    skill  cosine_sim  \n",
       "128  Microsoft Power Platform Power Apps Power Auto...  web dev    0.164214  \n",
       "235  Salesforce App Development Schema Building Dat...  web dev    0.151673  \n",
       "43   Agile Scrum Kanban XP Minimum Viable ProductTh...  web dev    0.143336  \n",
       "193  HTML CSS CSS Syntax HTML Syntax Problem SetIn ...  web dev    0.137469  \n",
       "188  JavaScript Conditionals Loops Data Types amp V...  web dev    0.137361  "
      ]
     },
     "execution_count": 80,
     "metadata": {},
     "output_type": "execute_result"
    }
   ],
   "source": [
    "data[0:5]"
   ]
  },
  {
   "cell_type": "code",
   "execution_count": null,
   "id": "1019d0a9",
   "metadata": {},
   "outputs": [],
   "source": []
  },
  {
   "cell_type": "code",
   "execution_count": null,
   "id": "088992f6",
   "metadata": {},
   "outputs": [],
   "source": [
    "`"
   ]
  }
 ],
 "metadata": {
  "kernelspec": {
   "display_name": "Python 3",
   "language": "python",
   "name": "python3"
  },
  "language_info": {
   "codemirror_mode": {
    "name": "ipython",
    "version": 3
   },
   "file_extension": ".py",
   "mimetype": "text/x-python",
   "name": "python",
   "nbconvert_exporter": "python",
   "pygments_lexer": "ipython3",
   "version": "3.8.10"
  }
 },
 "nbformat": 4,
 "nbformat_minor": 5
}
